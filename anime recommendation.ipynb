{
 "cells": [
  {
   "cell_type": "code",
   "execution_count": null,
   "metadata": {},
   "outputs": [],
   "source": [
    "#Importing the libraries\n",
    "import numpy as np\n",
    "import tensorrec as rec\n",
    "import pandas as pd\n",
    "import tensorflow as tf\n",
    "from scipy import sparse\n",
    "import random as ran\n",
    "import tensorflow_datasets as tf_df\n",
    "#https://towardsdatascience.com/getting-started-with-recommender-systems-and-tensorrec-8f50a9943eef \n",
    "#use this link\n"
   ]
  },
  {
   "cell_type": "code",
   "execution_count": null,
   "metadata": {},
   "outputs": [],
   "source": [
    "#Importing the datasets\n",
    "dataset1 = pd.read_csv('rating.csv')\n",
    "dataset2 = pd.read_csv('anime.csv')"
   ]
  },
  {
   "cell_type": "code",
   "execution_count": null,
   "metadata": {},
   "outputs": [],
   "source": [
    "#to merge the do dataframe, we will do a left join between ratings dataset and anims dataset\n",
    "#we are doing a left join as multiple rows in the anime table can be joined to the rows in rating table\n",
    "\n",
    "dataset = pd.merge(dataset1,\n",
    "                  dataset2,\n",
    "                  left_on = 'anime_id',\n",
    "                  right_on = 'anime_id',\n",
    "                  how = 'left')"
   ]
  },
  {
   "cell_type": "code",
   "execution_count": null,
   "metadata": {},
   "outputs": [],
   "source": [
    "dataset1"
   ]
  },
  {
   "cell_type": "code",
   "execution_count": null,
   "metadata": {},
   "outputs": [],
   "source": [
    "dataset2"
   ]
  },
  {
   "cell_type": "code",
   "execution_count": null,
   "metadata": {},
   "outputs": [],
   "source": [
    "dataset"
   ]
  },
  {
   "cell_type": "code",
   "execution_count": null,
   "metadata": {},
   "outputs": [],
   "source": [
    "#checking if the merge produced a cartesian join, because that would indicate something got messed up\n",
    "print(\"rating dimensions: {}\".format(dataset1.shape))\n",
    "print(\"anime dimensions: {}\".format(dataset2.shape))\n",
    "print(\"final table after left join dimensions: {}\".format(dataset.shape))\n",
    "#since the number of rows are equal to the number os rows in the left table, there is no catesian join and the left join is working perfectly ok!!!\n"
   ]
  },
  {
   "cell_type": "code",
   "execution_count": null,
   "metadata": {},
   "outputs": [],
   "source": [
    "#splittting the dataset in test and train\n",
    "#ran.shuffle(dataset)\n",
    "cutoff = int(.75 * len(dataset))\n",
    "train_dataset = dataset[:cutoff]\n",
    "test_dataset = dataset[cutoff:]"
   ]
  },
  {
   "cell_type": "code",
   "execution_count": null,
   "metadata": {},
   "outputs": [],
   "source": [
    "train_dataset.shape"
   ]
  },
  {
   "cell_type": "code",
   "execution_count": null,
   "metadata": {},
   "outputs": [],
   "source": [
    "test_dataset.shape"
   ]
  },
  {
   "cell_type": "code",
   "execution_count": null,
   "metadata": {},
   "outputs": [],
   "source": [
    "user_features = train_dataset.iloc[:, 1:2].values"
   ]
  },
  {
   "cell_type": "code",
   "execution_count": null,
   "metadata": {},
   "outputs": [],
   "source": [
    "item_features = train_dataset.iloc[:, 3:7].values"
   ]
  },
  {
   "cell_type": "code",
   "execution_count": null,
   "metadata": {},
   "outputs": [],
   "source": [
    "ratings = train_dataset.iloc [:, -1].values\n"
   ]
  },
  {
   "cell_type": "code",
   "execution_count": null,
   "metadata": {},
   "outputs": [],
   "source": [
    "\n",
    "user_features = tf.convert_to_tensor(user_features, dtype=tf.float64)\n",
    "print(type(user_features))"
   ]
  },
  {
   "cell_type": "code",
   "execution_count": null,
   "metadata": {},
   "outputs": [],
   "source": [
    "\n",
    "item_features = item_features[~pd.isnull(item_features)] #x = x[~numpy.isnan(x)]\n",
    "item_features = tf.convert_to_tensor(item_features, dtype=tf.string)\n",
    "print(type(item_features))"
   ]
  },
  {
   "cell_type": "code",
   "execution_count": null,
   "metadata": {},
   "outputs": [],
   "source": [
    "#interactions = tf.convert_to_tensor(interactions, dtype=tf.float32)\n",
    "#print(type(interactions))"
   ]
  },
  {
   "cell_type": "code",
   "execution_count": null,
   "metadata": {},
   "outputs": [],
   "source": [
    "def interactions_list_to_sparse_matrix(interactions):\n",
    "    user_features, item_features, ratings, _ = zip(*interactions)\n",
    "    return sparse.coo_matrix((ratings, (user_features, item_features)), \n",
    "                             shape = (n_users, n_iterms))\n",
    "\n",
    "#create sparse matrices of interaction data\n",
    "sparse_train_ratings = interactions_list_to_sparse_matrix(train_dataset)\n",
    "sparse_test_ratings = interactions_list_to_sparse_matrix(test_dataset)\n"
   ]
  },
  {
   "cell_type": "code",
   "execution_count": null,
   "metadata": {},
   "outputs": [],
   "source": [
    "# Construct indicator features for users and items\n",
    "user_indicator_features = sparse.identity(n_users)\n",
    "item_indicator_features = sparse.identity(n_items)"
   ]
  },
  {
   "cell_type": "code",
   "execution_count": null,
   "metadata": {},
   "outputs": [],
   "source": [
    "#Building the model with default parameters\n",
    "\n",
    "model = rec.TensorRec(n_components = 5)"
   ]
  },
  {
   "cell_type": "code",
   "execution_count": null,
   "metadata": {},
   "outputs": [],
   "source": [
    "# Fit the model for 5 epochs\n",
    "model.fit(interactions = sparse_train_ratings, \n",
    "          user_features=user_indicator_features,\n",
    "          item_features=item_indicator_features\n",
    "          , epochs=5, verbose=True)\n"
   ]
  },
  {
   "cell_type": "code",
   "execution_count": null,
   "metadata": {},
   "outputs": [],
   "source": [
    "# Predict scores and ranks for all users and all items\n",
    "predictions = model.predict(user_features=user_features,\n",
    "                            item_features=item_features)\n",
    "predicted_ranks = model.predict_rank(user_features=user_features,\n",
    "                                     item_features=item_features)"
   ]
  },
  {
   "cell_type": "code",
   "execution_count": null,
   "metadata": {},
   "outputs": [],
   "source": [
    "\n",
    "# Calculate and print the recall at 10\n",
    "r_at_k = rec.eval.recall_at_k(predicted_ranks, interactions, k=10)\n",
    "print(np.mean(r_at_k))"
   ]
  },
  {
   "cell_type": "code",
   "execution_count": null,
   "metadata": {},
   "outputs": [],
   "source": []
  },
  {
   "cell_type": "code",
   "execution_count": null,
   "metadata": {},
   "outputs": [],
   "source": []
  },
  {
   "cell_type": "code",
   "execution_count": null,
   "metadata": {},
   "outputs": [],
   "source": []
  },
  {
   "cell_type": "code",
   "execution_count": null,
   "metadata": {},
   "outputs": [],
   "source": []
  }
 ],
 "metadata": {
  "kernelspec": {
   "display_name": "Python 3",
   "language": "python",
   "name": "python3"
  },
  "language_info": {
   "codemirror_mode": {
    "name": "ipython",
    "version": 3
   },
   "file_extension": ".py",
   "mimetype": "text/x-python",
   "name": "python",
   "nbconvert_exporter": "python",
   "pygments_lexer": "ipython3",
   "version": "3.7.5"
  }
 },
 "nbformat": 4,
 "nbformat_minor": 2
}
